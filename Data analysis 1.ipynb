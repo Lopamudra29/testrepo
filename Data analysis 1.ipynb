{
    "cells": [
        {
            "cell_type": "code",
            "execution_count": 2,
            "metadata": {},
            "outputs": [
                {
                    "data": {
                        "text/html": "<div>\n<style scoped>\n    .dataframe tbody tr th:only-of-type {\n        vertical-align: middle;\n    }\n\n    .dataframe tbody tr th {\n        vertical-align: top;\n    }\n\n    .dataframe thead th {\n        text-align: right;\n    }\n</style>\n<table border=\"1\" class=\"dataframe\">\n  <thead>\n    <tr style=\"text-align: right;\">\n      <th></th>\n      <th>Section</th>\n      <th>Roll</th>\n      <th>Name</th>\n    </tr>\n  </thead>\n  <tbody>\n    <tr>\n      <th>0</th>\n      <td>1</td>\n      <td>20</td>\n      <td>Miss A</td>\n    </tr>\n    <tr>\n      <th>1</th>\n      <td>2</td>\n      <td>40</td>\n      <td>Miss B</td>\n    </tr>\n    <tr>\n      <th>2</th>\n      <td>6</td>\n      <td>21</td>\n      <td>Mr Z</td>\n    </tr>\n    <tr>\n      <th>3</th>\n      <td>3</td>\n      <td>25</td>\n      <td>Miss C</td>\n    </tr>\n    <tr>\n      <th>4</th>\n      <td>4</td>\n      <td>30</td>\n      <td>Mr X</td>\n    </tr>\n  </tbody>\n</table>\n</div>",
                        "text/plain": "   Section  Roll    Name\n0        1    20  Miss A\n1        2    40  Miss B\n2        6    21    Mr Z\n3        3    25  Miss C\n4        4    30    Mr X"
                    },
                    "execution_count": 2,
                    "metadata": {},
                    "output_type": "execute_result"
                }
            ],
            "source": "# The code was removed by Watson Studio for sharing."
        },
        {
            "cell_type": "code",
            "execution_count": null,
            "metadata": {},
            "outputs": [],
            "source": ""
        }
    ],
    "metadata": {
        "kernelspec": {
            "display_name": "Python 3.7 with Spark",
            "language": "python3",
            "name": "python37"
        },
        "language_info": {
            "codemirror_mode": {
                "name": "ipython",
                "version": 3
            },
            "file_extension": ".py",
            "mimetype": "text/x-python",
            "name": "python",
            "nbconvert_exporter": "python",
            "pygments_lexer": "ipython3",
            "version": "3.7.10"
        }
    },
    "nbformat": 4,
    "nbformat_minor": 1
}